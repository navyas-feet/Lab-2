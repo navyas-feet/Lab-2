{
 "cells": [
  {
   "cell_type": "markdown",
   "metadata": {},
   "source": [
    "# City of Phoenix Wage Analysis\n",
    "#### Navya's Feet, Big Data & Analytics, 10-1-19"
   ]
  },
  {
   "cell_type": "markdown",
   "metadata": {},
   "source": [
    "## Abstract:\n",
    "This lab is an analysis of payroll information for all regularly scheduled City of Phoenix employees. In this report, we will be finding the median, mode, mean, minimum and maximum values for total pay of employees of the City of Phoenix."
   ]
  },
  {
   "cell_type": "markdown",
   "metadata": {},
   "source": [
    "## Dataset Preparation\n",
    "\n",
    "This dataset represents the total salaries of all current employees for the City of Phoenix.\n",
    "\n",
    "The information included in the datasheet contains information last name, first name, job descriptor and salary. For this particular analysis, I will only be looking at annual salary data for my calculations. \n",
    "\n",
    "* First, I put all of the lines in the data file into a list. \n",
    "* Then, I deleted the descriptors above the data from the dataset. \n",
    "* Then, I made one empty list for annual salary. \n",
    "* I then split every piece of data with commas. \n",
    "* Lastly, I put the annual salary data into a list and made sure to turn it into a list containing only floats in order to avoid the data being turned into a string and therefore restricting me from performing necessaary calculations. \n",
    "\n",
    "This dataset is accessible at link: https://www.phoenixopendata.com/dataset/staff-salaries\n",
    "\n",
    "This data is collected by the City of Phoenix Department of Human Resources and is updated when approved changes are made to the salary data with the last update date being January 9, 2019. The dataset has 4 columns and 11.9K rows of data. "
   ]
  },
  {
   "cell_type": "code",
   "execution_count": 8,
   "metadata": {},
   "outputs": [],
   "source": [
    "\n",
    "staff_file = open(\"Phoenix_City_Staff_Salaries.csv\", \"r\");\n",
    "\n",
    "#After opening the datafile, I made an empty list for the data\n",
    "\n",
    "staff_data = [];\n",
    "\n",
    "#Here, I put all of the lines of data into the empty list I just made\n",
    "\n",
    "for row in staff_file:\n",
    "    staff_data.append(row);\n",
    "    \n",
    "#I then deleted the headersfrom the data in the dataset\n",
    "  \n",
    "del staff_data[0];\n",
    "\n",
    "#I then made an empty list for specifically the annual salary section of the data\n",
    "\n",
    "annualsal = [];\n",
    "\n",
    "#Then, I appended/added the annual salary (row 3) data to the empty list to create a list solely for annual salary\n",
    "\n",
    "for item in range(len(staff_data)):\n",
    "    file_row = staff_data[item].split(\",\")\n",
    "    annualsal.append(float(file_row[3]))\n",
    "    \n",
    "#Lastly, I closed the file, now that I have the list/data that I need for my calculations. \n",
    "    \n",
    "staff_file.close();"
   ]
  },
  {
   "cell_type": "markdown",
   "metadata": {},
   "source": [
    "## Data Modeling\n",
    "\n",
    "* Here, I used code in order to calculate the minimum, maximum, mode, median, and mean data points for annual salary. I used the min and max functions and, I call the statistics module at the top of the cell so that I have access to the average, median and mode functions. "
   ]
  },
  {
   "cell_type": "code",
   "execution_count": 9,
   "metadata": {},
   "outputs": [],
   "source": [
    "import statistics\n",
    "\n",
    "#Here, I import the statistics module in order to calculate mean, median and mode. \n",
    "\n",
    "minsal = min(annualsal) \n",
    "modesal = statistics.mode(annualsal)\n",
    "maxsal = max(annualsal)\n",
    "meansal = statistics.mean(annualsal)\n",
    "medsal = statistics.median(annualsal)"
   ]
  },
  {
   "cell_type": "markdown",
   "metadata": {},
   "source": [
    "### Wage Data Calculations:"
   ]
  },
  {
   "cell_type": "code",
   "execution_count": 10,
   "metadata": {},
   "outputs": [
    {
     "name": "stdout",
     "output_type": "stream",
     "text": [
      "Annual Salary Statistics:\n",
      "Minumum salary: 767.0\n",
      "Mode salary: 72425.6\n",
      "Maximum salary: 314999.36\n",
      "Mean salary: 65390.093325526934\n",
      "Median salary: 63315.2\n"
     ]
    }
   ],
   "source": [
    "print(\"Annual Salary Statistics:\")\n",
    "print(\"Minumum salary:\", minsal)\n",
    "print(\"Mode salary:\", modesal)\n",
    "print(\"Maximum salary:\", maxsal)\n",
    "print(\"Mean salary:\", meansal) \n",
    "print(\"Median salary:\", medsal)"
   ]
  },
  {
   "cell_type": "markdown",
   "metadata": {},
   "source": [
    "## Data Analysis & Conclusion\n",
    "\n",
    "### Salary Data:\n",
    "\n",
    "* When analyzing the annual salary data, we can conclude that the minimum salary for the staff of the City of Phoenix is 767 dollars annually, a number that shocked me immensely. Objectively, that is not a livable salary which makes me wonder about the age and profession of the worker. It also makes me wonder whether or not that was a typo because 767 dollars/year is far too low for any adult to survive, especially in a major city like Phoenix. \n",
    "\n",
    "* We can also conclude that the maximum annual salary is 314,999.36 dollars/year which is a stark contrast to the minimum salary. The difference is shocking and makes me wonder even more whether or not the minimum salary was an accidental mistype by the data collectors. \n",
    "\n",
    "* We can also conclude that the mode annual salary is 72,425.60 dollars/year which means that this is the most common wage among the Seattle City Staff. An interesting area for exploration would be to see whether or not the jobs with the same salaries are the same or are within the same department. \n",
    "\n",
    "* We can also conclude that the mean annual salary of a Phoenix City employee is 65,390 dollars/year. An interesting question to explore comes from the root that outliers can affect the mean. I doubt the effect can be much in a dataset with a much values as this one, however, I am still curious to find out what the mean would be without the value of 767 dollars/year and how much this would effect the mean. \n",
    "\n",
    "* The median annual salary, as concluded from the calculations is 63,315 dollars/year,a number that is incredibly close to the mean. This makes me wonder whether there are many salaries within the 60,000 dollar range in order for the number range to effect both the mean as well as the median. "
   ]
  },
  {
   "cell_type": "markdown",
   "metadata": {},
   "source": [
    "### Questions: \n",
    "\n",
    "* This lab makes me wonder more about the minimum annual salary for the City of Phoenix. Due to the fact that the yearly minimum is 767 dollars, it makes me wonder more about the age, gender and department of the person earning so little. I wonder if the person is a minor and, I wonder if they are working half time or full time. \n",
    "* I would also like to know more about the gender statistics in the City of Phoenix staff. I would like to know more about which gender is more prevalent in which department and, which gender makes more money on average would also be interesting to find out. This also brings me to question whether there are options for the staff member to identify as non-binary or not, as this particular fact could tell us a lot about the culture of Phoenix versus the culture of Seattle. \n",
    "* Finally, I would like to study the highest and lowest annual wages again, especially to find out if individuals in the same or similar departments make similiar amounts of money. This could also help me to find out whether or not the number for minimum wage is a mistype or not, depending on what the salaries are of individuals with similar jobs. "
   ]
  },
  {
   "cell_type": "markdown",
   "metadata": {},
   "source": [
    "## Acknowledgements\n",
    "\n",
    "* Used data from Ms. Sconyer's initial Jupyter Notebooks file in order to extract and put the age and wage data into the two separate lists. I also used Ms. Sconyers for advice on my dataset preparation and modeling sections. \n",
    "* I also acknowledge Phoenix Department of Human Resources since without their data, I could not have made these calculations or modelled this data. \n",
    "* I would also like to thank myself because I did use a lot of my verbiage that I had previously utilized in my first Jupyter Lab so, thank you Navya from the past for making this so much easier for me. You are, as they say, a \"real one\". \n",
    "* Also would like to acknowledge Ms. Sconyers for her comments on my 1st lab; they helped with this lab. \n",
    "\n"
   ]
  }
 ],
 "metadata": {
  "kernelspec": {
   "display_name": "Python 3",
   "language": "python",
   "name": "python3"
  },
  "language_info": {
   "codemirror_mode": {
    "name": "ipython",
    "version": 3
   },
   "file_extension": ".py",
   "mimetype": "text/x-python",
   "name": "python",
   "nbconvert_exporter": "python",
   "pygments_lexer": "ipython3",
   "version": "3.7.1"
  }
 },
 "nbformat": 4,
 "nbformat_minor": 2
}
